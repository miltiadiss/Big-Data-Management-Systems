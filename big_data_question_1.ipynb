{
  "nbformat": 4,
  "nbformat_minor": 0,
  "metadata": {
    "colab": {
      "provenance": [],
      "authorship_tag": "ABX9TyMWOHbs1FTetI+NyryD/Q8t",
      "include_colab_link": true
    },
    "kernelspec": {
      "name": "python3",
      "display_name": "Python 3"
    },
    "language_info": {
      "name": "python"
    }
  },
  "cells": [
    {
      "cell_type": "markdown",
      "metadata": {
        "id": "view-in-github",
        "colab_type": "text"
      },
      "source": [
        "<a href=\"https://colab.research.google.com/github/miltiadiss/Big-Data-Management-Systems/blob/main/big_data_question_1.ipynb\" target=\"_parent\"><img src=\"https://colab.research.google.com/assets/colab-badge.svg\" alt=\"Open In Colab\"/></a>"
      ]
    },
    {
      "cell_type": "code",
      "source": [
        "import pandas as pd\n",
        "\n",
        "def vehicles_to_pandas():\n",
        "    # Δημιουργία πλασματικών δεδομένων για την εξομοίωση\n",
        "    data = {\n",
        "        'name': ['vehicle_1', 'vehicle_2'],\n",
        "        'dn': [1, 1],\n",
        "        'orig': ['A', 'B'],\n",
        "        'dest': ['C', 'D'],\n",
        "        't': [15, 25],\n",
        "        'link': ['link_1', 'link_2'],\n",
        "        'x': [100, 200],\n",
        "        's': [10, 20],\n",
        "        'v': [50, 60]\n",
        "    }\n",
        "    return pd.DataFrame(data)\n",
        "\n",
        "# Παράγει τα δεδομένα με τη μορφή pandas DataFrame\n",
        "data = vehicles_to_pandas()\n",
        "\n",
        "# Εμφάνιση των δεδομένων\n",
        "print(data)\n",
        "\n",
        "# Αποθήκευση των δεδομένων σε αρχείο CSV\n",
        "data.to_csv('vehicle_data.csv', index=False)"
      ],
      "metadata": {
        "colab": {
          "base_uri": "https://localhost:8080/"
        },
        "id": "AcwnzrxijgvR",
        "outputId": "353098c2-b1c4-40c6-9d68-b348b64590f7"
      },
      "execution_count": null,
      "outputs": [
        {
          "output_type": "stream",
          "name": "stdout",
          "text": [
            "        name  dn orig dest   t    link    x   s   v\n",
            "0  vehicle_1   1    A    C  15  link_1  100  10  50\n",
            "1  vehicle_2   1    B    D  25  link_2  200  20  60\n"
          ]
        }
      ]
    },
    {
      "cell_type": "code",
      "execution_count": null,
      "metadata": {
        "id": "dkB83wgyjCeG"
      },
      "outputs": [],
      "source": [
        "from kafka import KafkaProducer\n",
        "import json\n",
        "import time\n",
        "from datetime import datetime\n",
        "\n",
        "# Φόρτωση δεδομένων\n",
        "data = pd.read_csv('vehicle_data.csv')\n",
        "\n",
        "# Αρχικοποίηση Kafka producer\n",
        "producer = KafkaProducer(\n",
        "    bootstrap_servers='localhost:9092',\n",
        "    value_serializer=lambda v: json.dumps(v).encode('utf-8')\n",
        ")\n",
        "\n",
        "# Χρόνος εκκίνησης του producer\n",
        "start_time = datetime.now()\n",
        "\n",
        "# Συνάρτηση για αποστολή δεδομένων στο Kafka\n",
        "def send_vehicle_data():\n",
        "    current_time = datetime.now()\n",
        "    elapsed_time = (current_time - start_time).total_seconds()\n",
        "\n",
        "    for index, row in data.iterrows():\n",
        "        if row['t'] <= elapsed_time:\n",
        "            if row['link'] != 'waiting at origin node':\n",
        "                vehicle_data = {\n",
        "                    'name': row['name'],\n",
        "                    'dn': row['dn'],\n",
        "                    'orig': row['orig'],\n",
        "                    'dest': row['dest'],\n",
        "                    't': row['t'],\n",
        "                    'link': row['link'],\n",
        "                    'x': row['x'],\n",
        "                    's': row['s'],\n",
        "                    'v': row['v'],\n",
        "                    'timestamp': current_time.isoformat()\n",
        "                }\n",
        "                producer.send('vehicle_positions', vehicle_data)\n",
        "                print(f\"Sent data: {vehicle_data}\")\n",
        "\n",
        "# Περιοδική αποστολή δεδομένων\n",
        "try:\n",
        "    while True:\n",
        "        send_vehicle_data()\n",
        "        time.sleep(1)\n",
        "except KeyboardInterrupt:\n",
        "    print(\"Stopping producer.\")\n",
        "finally:\n",
        "    producer.close()"
      ]
    },
    {
      "cell_type": "code",
      "source": [
        "from kafka import KafkaConsumer\n",
        "\n",
        "# Αρχικοποίηση Kafka consumer\n",
        "consumer = KafkaConsumer(\n",
        "    'vehicle_positions',\n",
        "    bootstrap_servers='localhost:9092',\n",
        "    auto_offset_reset='earliest',\n",
        "    value_deserializer=lambda x: json.loads(x.decode('utf-8'))\n",
        ")\n",
        "\n",
        "print(\"Starting consumer...\")\n",
        "for message in consumer:\n",
        "    vehicle_data = message.value\n",
        "    print(f\"Received data: {vehicle_data}\")"
      ],
      "metadata": {
        "id": "tiAxKno-jHyn"
      },
      "execution_count": null,
      "outputs": []
    }
  ]
}